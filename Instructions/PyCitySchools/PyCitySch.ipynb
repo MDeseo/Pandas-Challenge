{
 "cells": [
  {
   "cell_type": "markdown",
   "metadata": {},
   "source": [
    "### Note\n",
    "* Instructions have been included for each segment. You do not have to follow them exactly, but they are included to help you think through the steps."
   ]
  },
  {
   "cell_type": "code",
   "execution_count": null,
   "metadata": {},
   "outputs": [],
   "source": [
    "# Dependencies and Setup\n",
    "import pandas as pd\n",
    "\n",
    "# File to Load (Remember to Change These)\n",
    "school_data_to_load = \"Resources/schools_complete.csv\"\n",
    "student_data_to_load = \"Resources/students_complete.csv\"\n",
    "\n",
    "# Read School and Student Data File and store into Pandas DataFrames\n",
    "school_data = pd.read_csv(school_data_to_load)\n",
    "student_data = pd.read_csv(student_data_to_load)\n",
    "\n",
    "# Combine the data into a single dataset.  \n",
    "school_data_complete = pd.merge(student_data, school_data, how=\"left\", on=[\"school_name\", \"school_name\"])"
   ]
  },
  {
   "cell_type": "code",
   "execution_count": null,
   "metadata": {},
   "outputs": [],
   "source": [
    "# Print school data complete\n",
    "\n",
    "school_data_complete \n"
   ]
  },
  {
   "cell_type": "markdown",
   "metadata": {},
   "source": [
    "## Local Government Area Summary\n",
    "\n",
    "* Calculate the total number of schools\n",
    "\n",
    "* Calculate the total number of students\n",
    "\n",
    "* Calculate the total budget\n",
    "\n",
    "* Calculate the average maths score \n",
    "\n",
    "* Calculate the average reading score\n",
    "\n",
    "* Calculate the percentage of students with a passing maths score (50 or greater)\n",
    "\n",
    "* Calculate the percentage of students with a passing reading score (50 or greater)\n",
    "\n",
    "* Calculate the percentage of students who passed maths **and** reading (% Overall Passing)\n",
    "\n",
    "* Create a dataframe to hold the above results\n",
    "\n",
    "* Optional: give the displayed data cleaner formatting"
   ]
  },
  {
   "cell_type": "code",
   "execution_count": null,
   "metadata": {},
   "outputs": [],
   "source": [
    "# Calculate the total number of schools\n",
    "\n",
    "school_count = len(school_data)\n",
    "school_count\n"
   ]
  },
  {
   "cell_type": "code",
   "execution_count": null,
   "metadata": {},
   "outputs": [],
   "source": [
    "# Calculate the total number of students\n",
    "\n",
    "student_count = len(school_data_complete)\n",
    "student_count\n"
   ]
  },
  {
   "cell_type": "code",
   "execution_count": null,
   "metadata": {},
   "outputs": [],
   "source": [
    "# Calculate the total budget\n",
    "\n",
    "total_budget = school_data[\"budget\"].sum()\n",
    "total_budget\n"
   ]
  },
  {
   "cell_type": "code",
   "execution_count": null,
   "metadata": {},
   "outputs": [],
   "source": [
    "# Calculate the average maths score\n",
    "\n",
    "ave_maths_score = school_data_complete[\"maths_score\"].mean()\n",
    "ave_maths_score\n"
   ]
  },
  {
   "cell_type": "code",
   "execution_count": null,
   "metadata": {},
   "outputs": [],
   "source": [
    "# Calculate the average reading score\n",
    "\n",
    "ave_reading_score = school_data_complete[\"reading_score\"].mean()\n",
    "ave_reading_score\n"
   ]
  },
  {
   "cell_type": "code",
   "execution_count": null,
   "metadata": {},
   "outputs": [],
   "source": [
    "# Calculate the percentage of students with a passing maths score (50 or greater)\n",
    "\n",
    "passing_math_count = school_data_complete[(school_data_complete[\"maths_score\"] >= 50)][\"student_name\"].count()\n",
    "passing_math_percentage = passing_math_count / float(student_count) * 100\n",
    "passing_math_percentage"
   ]
  },
  {
   "cell_type": "code",
   "execution_count": null,
   "metadata": {},
   "outputs": [],
   "source": [
    "# Calculate the percentage of students with a passing reading score (50 or greater)\n",
    "\n",
    "passing_reading_count = school_data_complete[(school_data_complete[\"reading_score\"] >= 50)][\"student_name\"].count()\n",
    "passing_reading_percentage = passing_reading_count / float(student_count) * 100\n",
    "passing_reading_percentage\n"
   ]
  },
  {
   "cell_type": "code",
   "execution_count": null,
   "metadata": {},
   "outputs": [],
   "source": [
    "# Calculate the percentage of students who passed maths and reading (% Overall Passing)\n",
    "\n",
    "Overall_passing_count = school_data_complete[(school_data_complete[\"maths_score\"] >= 50) & (school_data_complete[\"reading_score\"] >= 50)][\"student_name\"].count()\n",
    "\n",
    "Percentage_Overall_passing = Overall_passing_count / float(student_count) * 100\n",
    "Percentage_Overall_passing\n"
   ]
  },
  {
   "cell_type": "code",
   "execution_count": null,
   "metadata": {},
   "outputs": [],
   "source": [
    "# Create a dataframe to hold the above results\n",
    "# Optional: give the displayed data cleaner formatting\n",
    "\n",
    "LGA_summary = pd.DataFrame({\n",
    "    \"Total School\": school_count,\n",
    "    \"Total Students\": f\"{student_count:,}\",\n",
    "    \"Total School Budget\": f\"${total_budget:,.2f}\",\n",
    "    \"Average Math Score\": f\"{ave_maths_score:.2f}\",\n",
    "    \"Average Reading Score\": f\"{ave_reading_score:.2f}\",\n",
    "    \"% Passing Math\": f\"{passing_math_percentage:.2f}\",\n",
    "    \"% Passing Reading\": f\"{passing_reading_percentage:.2f}\",\n",
    "    \"% Overall Passing\": f\"{Percentage_Overall_passing:.2f}\"\n",
    "}, index=[0])\n",
    "\n",
    "LGA_summary"
   ]
  },
  {
   "cell_type": "markdown",
   "metadata": {},
   "source": [
    "## School Summary"
   ]
  },
  {
   "cell_type": "markdown",
   "metadata": {},
   "source": [
    "* Create an overview table that summarises key metrics about each school, including:\n",
    "  * School Name\n",
    "  * School Type\n",
    "  * Total Students\n",
    "  * Total School Budget\n",
    "  * Per Student Budget\n",
    "  * Average Maths Score\n",
    "  * Average Reading Score\n",
    "  * % Passing Maths\n",
    "  * % Passing Reading\n",
    "  * % Overall Passing (The percentage of students that passed maths **and** reading.)\n",
    "  \n",
    "* Create a dataframe to hold the above results"
   ]
  },
  {
   "cell_type": "code",
   "execution_count": null,
   "metadata": {},
   "outputs": [],
   "source": [
    "# Summarise the key metrics\n",
    "\n",
    "school_data_complete[\"passing_math\"] = school_data_complete[\"maths_score\"] >= 50\n",
    "school_data_complete[\"passing_reading\"] = school_data_complete[\"reading_score\"] >= 50\n",
    "\n",
    "# Display to check\n",
    "\n",
    "school_data_complete\n"
   ]
  },
  {
   "cell_type": "code",
   "execution_count": null,
   "metadata": {},
   "outputs": [],
   "source": [
    "# Group by School name\n",
    "\n",
    "school_group = school_data_complete.groupby([\"school_name\"]).mean()\n",
    "school_group[\"Per Student Budget\"] = school_group[\"budget\"]/school_group[\"size\"]\n",
    "school_group[\"% Passing Math\"] = round(school_group[\"passing_math\"]*100,2)\n",
    "school_group[\"% Passing Reading\"] = round(school_group[\"passing_reading\"]*100,2)\n",
    "school_group[\"% Overall Passing\"] = round(((school_group[\"passing_math\"] + school_group[\"passing_reading\"])/2)*100,2)\n",
    "\n",
    "# Merge school group with school_data\n",
    "\n",
    "school_data_summary = pd.merge(school_group, school_data, how=\"left\", on=[\"school_name\", \"school_name\"])\n",
    "del school_data_summary['size_y']\n",
    "del school_data_summary['budget_y']\n",
    "del school_data_summary['Student ID']\n",
    "del school_data_summary['School ID_x']\n",
    "\n",
    "# Create a dataframe\n",
    "\n",
    "school_summary_dataframe = pd.DataFrame({\"School Name\":  school_data_summary[\"school_name\"],\n",
    "                                \"School Type\": school_data_summary[\"type\"],\n",
    "                               \"Total Students\":school_data_summary[\"size_x\"],\n",
    "                               \"Total School Budget\": school_data_summary[\"budget_x\"],\n",
    "                               \"Per Student Budget\":school_data_summary[\"Per Student Budget\"], \n",
    "                               \"Average Math Score\":round(school_data_summary[\"maths_score\"],2),\n",
    "                               \"Average Reading Score\":round(school_data_summary[\"reading_score\"],2), \n",
    "                               \"% Passing Math\": school_data_summary[\"% Passing Math\"],\n",
    "                               \"% Passing Reading\": school_data_summary[\"% Passing Reading\"],\n",
    "                               \"% Overall Passing\": school_data_summary[\"% Overall Passing\"]}) \n",
    "\n",
    "#Format total number of students to whole numbers and budget as currency with two decimal places\n",
    "school_summary_dataframe[\"Total Students\"] = school_summary_dataframe[\"Total Students\"].map(\"{:,.0f}\".format)\n",
    "school_summary_dataframe[\"Total School Budget\"] = school_summary_dataframe[\"Total School Budget\"].map(\"${:,.2f}\".format)\n",
    "school_summary_dataframe[\"Per Student Budget\"] = school_summary_dataframe[\"Per Student Budget\"].map(\"${:,.2f}\".format)\n",
    "\n",
    "school_summary_dataframe"
   ]
  },
  {
   "cell_type": "markdown",
   "metadata": {},
   "source": [
    "## Top Performing Schools (By % Overall Passing)"
   ]
  },
  {
   "cell_type": "markdown",
   "metadata": {},
   "source": [
    "* Sort and display the top five performing schools by % overall passing."
   ]
  },
  {
   "cell_type": "code",
   "execution_count": null,
   "metadata": {
    "scrolled": true
   },
   "outputs": [],
   "source": [
    "# Sort and display the top five schools based on overall passing\n",
    "\n",
    "top_five_schools = school_summary_dataframe.sort_values([\"% Overall Passing\"], ascending=False)\n",
    "top_five_schools.head()\n"
   ]
  },
  {
   "cell_type": "markdown",
   "metadata": {},
   "source": [
    "## Bottom Performing Schools (By % Overall Passing)"
   ]
  },
  {
   "cell_type": "markdown",
   "metadata": {},
   "source": [
    "* Sort and display the five worst-performing schools by % overall passing."
   ]
  },
  {
   "cell_type": "code",
   "execution_count": null,
   "metadata": {},
   "outputs": [],
   "source": [
    "#Sort and display the five worst-performing schools\n",
    "\n",
    "bottom_five_schools = school_summary_dataframe.sort_values([\"% Overall Passing\"], ascending=True)\n",
    "bottom_five_schools.head()\n"
   ]
  },
  {
   "cell_type": "markdown",
   "metadata": {
    "collapsed": true
   },
   "source": [
    "## Maths Scores by Year"
   ]
  },
  {
   "cell_type": "markdown",
   "metadata": {},
   "source": [
    "* Create a table that lists the average maths score for students of each year level (9, 10, 11, 12) at each school.\n",
    "\n",
    "  * Create a pandas series for each year. Hint: use a conditional statement.\n",
    "  \n",
    "  * Group each series by school\n",
    "  \n",
    "  * Combine the series into a dataframe\n",
    "  \n",
    "  * Optional: give the displayed data cleaner formatting"
   ]
  },
  {
   "cell_type": "code",
   "execution_count": null,
   "metadata": {},
   "outputs": [],
   "source": [
    "# Create a table that lists the average maths score for students grouped for each year level (9, 10, 11, 12) at each school\n",
    "\n",
    "year_nine = school_data_complete[school_data_complete[\"year\"] == \"9\"].groupby(\"school_name\")[\"maths_score\"].mean()\n",
    "year_ten = school_data_complete[school_data_complete[\"year\"] == \"10\"].groupby(\"school_name\")[\"maths_score\"].mean()\n",
    "year_eleven = school_data_complete[school_data_complete[\"year\"] == \"11\"].groupby(\"school_name\")[\"maths_score\"].mean()\n",
    "year_twelve = school_data_complete[school_data_complete[\"year\"] == \"12\"].groupby(\"school_name\")[\"maths_score\"].mean()\n",
    "\n",
    "\n",
    "# Create a dataframe\n",
    "\n",
    "math_by_year_df = pd.DataFrame({\n",
    "    \"School Name\": school_data[\"school_name\"],\n",
    "    \"Year 9\": year_nine, \n",
    "    \"Year 10\": year_ten,\n",
    "    \"Year 11\": year_eleven,\n",
    "    \"Year 12\": year_twelve\n",
    "})\n",
    "\n",
    "\n",
    "# Optional: give the displayed data cleaner formatting\n",
    "\n",
    "math_by_year_df[[\"Year 9\",\"Year 10\",\"Year 11\",\"Year 12\"]] \\\n",
    "= math_by_year_df[[\"Year 9\",\"Year 10\",\"Year 11\",\"Year 12\"]].applymap(\"{:.2f}\".format)\n",
    "\n",
    "# Print\n",
    "\n",
    "math_by_year_df\n"
   ]
  },
  {
   "cell_type": "markdown",
   "metadata": {},
   "source": [
    "## Reading Score by Year"
   ]
  },
  {
   "cell_type": "markdown",
   "metadata": {},
   "source": [
    "* Perform the same operations as above for reading scores"
   ]
  },
  {
   "cell_type": "code",
   "execution_count": null,
   "metadata": {},
   "outputs": [],
   "source": [
    "# Create a DataFrame that lists the average reading score for students of each year level (9, 10, 11, 12) at each school.\n",
    "\n",
    "year_nine =  school_data_complete[school_data_complete[\"year\"] == \"9\"].groupby(\"school_name\")[\"reading_score\"].mean()\n",
    "year_ten =  school_data_complete[school_data_complete[\"year\"] == \"10\"].groupby(\"school_name\")[\"reading_score\"].mean()\n",
    "year_eleven =  school_data_complete[school_data_complete[\"year\"] == \"11\"].groupby(\"school_name\")[\"reading_score\"].mean()\n",
    "year_twelve =  school_data_complete[school_data_complete[\"year\"] == \"12\"].groupby(\"school_name\")[\"reading_score\"].mean()\n",
    "\n",
    "# Combine the series into a dataframe\n",
    "\n",
    "reading_by_year_df = pd.DataFrame({\n",
    "    \"School Name\": school_data[\"school_name\"],\n",
    "    \"Year 9\": year_nine, \n",
    "    \"Year 10\": year_ten,\n",
    "    \"Year 11\": year_eleven,\n",
    "    \"Year 12\": year_twelve\n",
    "})\n",
    "\n",
    "# Format\n",
    "\n",
    "reading_by_year_df[[\"Year 9\",\"Year 10\",\"Year 11\",\"Year 12\"]] \\\n",
    "= reading_by_year_df[[\"Year 9\",\"Year 10\",\"Year 11\",\"Year 12\"]].applymap(\"{:.2f}\".format)\n",
    "\n",
    "# Print\n",
    "\n",
    "reading_by_year_df\n"
   ]
  },
  {
   "cell_type": "markdown",
   "metadata": {},
   "source": [
    "## Scores by School Spending"
   ]
  },
  {
   "cell_type": "markdown",
   "metadata": {},
   "source": [
    "* Create a table that breaks down school performances based on average Spending Ranges (Per Student). Use 4 reasonable bins to group school spending. Include in the table each of the following:\n",
    "  * Average Maths Score\n",
    "  * Average Reading Score\n",
    "  * % Passing Maths\n",
    "  * % Passing Reading\n",
    "  * Overall Passing Rate (Average of the above two)"
   ]
  },
  {
   "cell_type": "code",
   "execution_count": null,
   "metadata": {},
   "outputs": [],
   "source": [
    "budget_sorted = school_summary_dataframe.sort_values([\"Per Student Budget\"], ascending = True)\n",
    "budget_sorted"
   ]
  },
  {
   "cell_type": "code",
   "execution_count": null,
   "metadata": {},
   "outputs": [],
   "source": [
    "# Create four bins.\n",
    "spending_bins = [0, 600, 620, 640, 660]\n",
    "group_names = [\"<$600\", \"$600-620\", \"$621-640\", \"$641-660\"]\n",
    "\n",
    "# Group school spending. \n",
    "school_data_summary[\"Spending Ranges (Per Student)\"] = pd.cut(school_data_summary[\"Per Student Budget\"], spending_bins, labels=group_names)\n",
    "\n",
    "school_spending_group = school_data_summary.groupby(\"Spending Ranges (Per Student)\").mean() \n",
    "\n",
    "#Remove the unwanted columns as per the sample provided\n",
    "del school_spending_group['size_x']\n",
    "del school_spending_group['budget_x']\n",
    "del school_spending_group['Per Student Budget']\n",
    "del school_spending_group['School ID_y']\n",
    "del school_spending_group['year']\n",
    "del school_spending_group['passing_math']\n",
    "del school_spending_group['passing_reading']\n",
    "\n",
    "school_spending_group"
   ]
  },
  {
   "cell_type": "markdown",
   "metadata": {},
   "source": [
    "## Scores by School Size"
   ]
  },
  {
   "cell_type": "markdown",
   "metadata": {},
   "source": [
    "* Perform the same operations as above, based on school size."
   ]
  },
  {
   "cell_type": "code",
   "execution_count": null,
   "metadata": {
    "scrolled": true
   },
   "outputs": [],
   "source": [
    "# Create four bins\n",
    "\n",
    "school_size_bins = [0, 1000, 3000, 5000]\n",
    "group_names = [\"Small (<1000)\", \"Medium (1000-3000)\", \"Large (3001-5000)\"]\n",
    "\n",
    "# Group school size\n",
    "\n",
    "school_data_summary[\"School Size\"] = pd.cut(school_data_summary[\"size_x\"], school_size_bins, labels=group_names)\n",
    "school_data_summary\n",
    "\n",
    "school_size_group = school_data_summary.groupby(\"School Size\").mean() \n",
    "school_size_group\n",
    "\n",
    "# Remove unwanted columns\n",
    "\n",
    "del school_size_group['size_x']\n",
    "del school_size_group['budget_x']\n",
    "del school_size_group['Per Student Budget']\n",
    "del school_size_group['School ID_y']\n",
    "del school_size_group['year']\n",
    "del school_size_group['passing_math']\n",
    "del school_size_group['passing_reading']\n",
    "\n",
    "# Print\n",
    "\n",
    "school_size_group\n"
   ]
  },
  {
   "cell_type": "markdown",
   "metadata": {},
   "source": [
    "## Scores by School Type"
   ]
  },
  {
   "cell_type": "markdown",
   "metadata": {},
   "source": [
    "* Perform the same operations as above, based on school type"
   ]
  },
  {
   "cell_type": "code",
   "execution_count": null,
   "metadata": {},
   "outputs": [],
   "source": [
    "school_type_group = school_data_summary.groupby(\"type\").mean()\n",
    "\n",
    "#Remove the unwanted columns as per the sample provided\n",
    "del school_type_group[\"size_x\"]\n",
    "del school_type_group[\"budget_x\"]\n",
    "del school_type_group[\"Per Student Budget\"]\n",
    "del school_type_group[\"School ID_y\"]\n",
    "del school_type_group[\"year\"]\n",
    "del school_type_group[\"passing_math\"]\n",
    "del school_type_group[\"passing_reading\"]\n",
    "\n",
    "school_type_group"
   ]
  },
  {
   "cell_type": "code",
   "execution_count": null,
   "metadata": {},
   "outputs": [],
   "source": []
  }
 ],
 "metadata": {
  "anaconda-cloud": {},
  "kernel_info": {
   "name": "python3"
  },
  "kernelspec": {
   "display_name": "Python 3 (ipykernel)",
   "language": "python",
   "name": "python3"
  },
  "language_info": {
   "codemirror_mode": {
    "name": "ipython",
    "version": 3
   },
   "file_extension": ".py",
   "mimetype": "text/x-python",
   "name": "python",
   "nbconvert_exporter": "python",
   "pygments_lexer": "ipython3",
   "version": "3.9.12"
  },
  "latex_envs": {
   "LaTeX_envs_menu_present": true,
   "autoclose": false,
   "autocomplete": true,
   "bibliofile": "biblio.bib",
   "cite_by": "apalike",
   "current_citInitial": 1,
   "eqLabelWithNumbers": true,
   "eqNumInitial": 1,
   "hotkeys": {
    "equation": "Ctrl-E",
    "itemize": "Ctrl-I"
   },
   "labels_anchors": false,
   "latex_user_defs": false,
   "report_style_numbering": false,
   "user_envs_cfg": false
  },
  "nteract": {
   "version": "0.8.4"
  }
 },
 "nbformat": 4,
 "nbformat_minor": 1
}
